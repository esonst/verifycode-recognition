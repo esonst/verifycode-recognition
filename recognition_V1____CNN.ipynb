{
 "cells": [
  {
   "cell_type": "markdown",
   "metadata": {},
   "source": [
    "## 本算法欲使用最简单的卷积神经网络算法进行训练，完成早期版本"
   ]
  },
  {
   "cell_type": "code",
   "execution_count": 59,
   "metadata": {},
   "outputs": [],
   "source": [
    "import matplotlib.pyplot as plt\n",
    "from process_data import *\n",
    "from keras import *\n",
    "from keras.layers.convolutional import *\n",
    "from keras.layers.pooling import *\n",
    "from keras.layers import Dense,Activation,Flatten,Dropout\n",
    "from keras.optimizers import SGD"
   ]
  },
  {
   "cell_type": "markdown",
   "metadata": {},
   "source": [
    "## 读取数据集"
   ]
  },
  {
   "cell_type": "code",
   "execution_count": 60,
   "metadata": {},
   "outputs": [],
   "source": [
    "X,Y=get_data()"
   ]
  },
  {
   "cell_type": "code",
   "execution_count": 61,
   "metadata": {},
   "outputs": [
    {
     "name": "stdout",
     "output_type": "stream",
     "text": [
      "(560, 28, 64, 3)\n",
      "(560,)\n"
     ]
    }
   ],
   "source": [
    "print(X.shape)\n",
    "print(Y.shape)"
   ]
  },
  {
   "cell_type": "markdown",
   "metadata": {},
   "source": [
    "## 将每一个图片分成4个目标框，逐个进行学习"
   ]
  },
  {
   "cell_type": "code",
   "execution_count": 62,
   "metadata": {},
   "outputs": [],
   "source": [
    "x_set=[]\n",
    "y_set=[]\n",
    "for x in X:\n",
    "    x_set.append(x[:,2:18,:]) \n",
    "    x_set.append(x[:,17:33,:]) \n",
    "    x_set.append(x[:,31:47,:]) \n",
    "    x_set.append(x[:,40:56,:])\n",
    "for y in Y:\n",
    "    for i in range(4):\n",
    "        y_set.append(y[i].upper())\n",
    "     "
   ]
  },
  {
   "cell_type": "code",
   "execution_count": 63,
   "metadata": {},
   "outputs": [],
   "source": [
    "# 将 y_set 转化为int型标签\n",
    "a=[ord(i)-ord('0') for i in y_set]\n",
    "iny_set=[i-7 if i>10 else i for i in a]"
   ]
  },
  {
   "cell_type": "code",
   "execution_count": 64,
   "metadata": {},
   "outputs": [],
   "source": [
    "iny_set[1491]=7"
   ]
  },
  {
   "cell_type": "code",
   "execution_count": 90,
   "metadata": {},
   "outputs": [
    {
     "data": {
      "text/plain": [
       "array([0., 0., 0., 0., 0., 0., 0., 0., 0., 0., 0., 0., 0., 0., 0., 0., 0.,\n",
       "       0., 0., 0., 0., 0., 0., 0., 0., 0., 0., 0., 0., 0., 0., 0., 0., 1.,\n",
       "       0., 0.], dtype=float32)"
      ]
     },
     "execution_count": 90,
     "metadata": {},
     "output_type": "execute_result"
    }
   ],
   "source": [
    "one_hot_labels[y_set.index('X')]"
   ]
  },
  {
   "cell_type": "code",
   "execution_count": 65,
   "metadata": {},
   "outputs": [],
   "source": [
    "one_hot_labels =utils.to_categorical(iny_set, num_classes=36)"
   ]
  },
  {
   "cell_type": "markdown",
   "metadata": {},
   "source": [
    "## 整理数据集，按照7:3的比例划分训练集和测试集"
   ]
  },
  {
   "cell_type": "code",
   "execution_count": 66,
   "metadata": {
    "scrolled": true
   },
   "outputs": [
    {
     "name": "stdout",
     "output_type": "stream",
     "text": [
      "(1568, 28, 16, 3)\n",
      "(1568, 36)\n",
      "(672, 28, 16, 3)\n",
      "(672, 36)\n"
     ]
    }
   ],
   "source": [
    "X_train=np.asarray(x_set[0:int(0.7*len(x_set))])/255\n",
    "Y_train=np.asarray(one_hot_labels[0:len(X_train)])\n",
    "X_test=np.asarray(x_set[len(X_train):])/255\n",
    "Y_test=np.asarray(one_hot_labels[len(X_train):])\n",
    "\n",
    "\n",
    "print(X_train.shape)\n",
    "print(Y_train.shape)\n",
    "print(X_test.shape)\n",
    "print(Y_test.shape)"
   ]
  },
  {
   "cell_type": "markdown",
   "metadata": {},
   "source": [
    "### 例子"
   ]
  },
  {
   "cell_type": "code",
   "execution_count": 67,
   "metadata": {},
   "outputs": [
    {
     "data": {
      "text/plain": [
       "<matplotlib.image.AxesImage at 0x2310953f860>"
      ]
     },
     "execution_count": 67,
     "metadata": {},
     "output_type": "execute_result"
    },
    {
     "data": {
      "image/png": "[encoded data removed]",
      "text/plain": [
       "<Figure size 432x288 with 1 Axes>"
      ]
     },
     "metadata": {
      "needs_background": "light"
     },
     "output_type": "display_data"
    }
   ],
   "source": [
    "plt.title(Y[13])\n",
    "plt.imshow(X[13])"
   ]
  },
  {
   "cell_type": "code",
   "execution_count": 27,
   "metadata": {},
   "outputs": [
    {
     "data": {
      "text/plain": [
       "139"
      ]
     },
     "execution_count": 27,
     "metadata": {},
     "output_type": "execute_result"
    }
   ],
   "source": [
    "y_set.index('A')"
   ]
  },
  {
   "cell_type": "code",
   "execution_count": 30,
   "metadata": {},
   "outputs": [
    {
     "name": "stdout",
     "output_type": "stream",
     "text": [
      "[0. 0. 0. 0. 0. 0. 0. 0. 0. 0. 1. 0. 0. 0. 0. 0. 0. 0. 0. 0. 0. 0. 0. 0.\n",
      " 0. 0. 0. 0. 0. 0. 0. 0. 0. 0. 0. 0.]\n"
     ]
    }
   ],
   "source": [
    "print(Y_train[139])"
   ]
  },
  {
   "cell_type": "code",
   "execution_count": 58,
   "metadata": {},
   "outputs": [
    {
     "data": {
      "text/plain": [
       "<matplotlib.image.AxesImage at 0x2310d368080>"
      ]
     },
     "execution_count": 58,
     "metadata": {},
     "output_type": "execute_result"
    },
    {
     "data": {
      "image/png": "[encoded data removed]",
      "text/plain": [
       "<Figure size 432x288 with 1 Axes>"
      ]
     },
     "metadata": {
      "needs_background": "light"
     },
     "output_type": "display_data"
    }
   ],
   "source": [
    "plt.title(y_set[1491])\n",
    "plt.imshow(X_train[1488])"
   ]
  },
  {
   "cell_type": "markdown",
   "metadata": {},
   "source": [
    "## 建立model"
   ]
  },
  {
   "cell_type": "code",
   "execution_count": 32,
   "metadata": {},
   "outputs": [],
   "source": [
    "input_shape=(28,16,3)\n",
    "data_input=Input(input_shape)"
   ]
  },
  {
   "cell_type": "code",
   "execution_count": 33,
   "metadata": {},
   "outputs": [],
   "source": [
    "model=Sequential()\n",
    "model.add(Conv2D(6,(5,5),padding='same',activation='relu',input_shape=input_shape))\n",
    "model.add(Dropout(0.4))\n",
    "model.add(MaxPooling2D(pool_size=(2,2)))\n",
    "model.add(Conv2D(12,(5,5),padding='same',activation='relu'))\n",
    "model.add(Dropout(0.3))\n",
    "model.add(MaxPooling2D(pool_size=(2,2)))\n",
    "model.add(Flatten())\n",
    "model.add(Dense(20))\n",
    "model.add(Activation(\"relu\"))\n",
    "model.add(Dropout(0.2))\n",
    "model.add(Dense(36))\n",
    "model.add(Activation(\"softmax\"))"
   ]
  },
  {
   "cell_type": "code",
   "execution_count": 34,
   "metadata": {},
   "outputs": [
    {
     "name": "stdout",
     "output_type": "stream",
     "text": [
      "_________________________________________________________________\n",
      "Layer (type)                 Output Shape              Param #   \n",
      "=================================================================\n",
      "conv2d_1 (Conv2D)            (None, 28, 16, 6)         456       \n",
      "_________________________________________________________________\n",
      "dropout_1 (Dropout)          (None, 28, 16, 6)         0         \n",
      "_________________________________________________________________\n",
      "max_pooling2d_1 (MaxPooling2 (None, 14, 8, 6)          0         \n",
      "_________________________________________________________________\n",
      "conv2d_2 (Conv2D)            (None, 14, 8, 12)         1812      \n",
      "_________________________________________________________________\n",
      "dropout_2 (Dropout)          (None, 14, 8, 12)         0         \n",
      "_________________________________________________________________\n",
      "max_pooling2d_2 (MaxPooling2 (None, 7, 4, 12)          0         \n",
      "_________________________________________________________________\n",
      "flatten_1 (Flatten)          (None, 336)               0         \n",
      "_________________________________________________________________\n",
      "dense_1 (Dense)              (None, 20)                6740      \n",
      "_________________________________________________________________\n",
      "activation_1 (Activation)    (None, 20)                0         \n",
      "_________________________________________________________________\n",
      "dropout_3 (Dropout)          (None, 20)                0         \n",
      "_________________________________________________________________\n",
      "dense_2 (Dense)              (None, 36)                756       \n",
      "_________________________________________________________________\n",
      "activation_2 (Activation)    (None, 36)                0         \n",
      "=================================================================\n",
      "Total params: 9,764\n",
      "Trainable params: 9,764\n",
      "Non-trainable params: 0\n",
      "_________________________________________________________________\n"
     ]
    }
   ],
   "source": [
    "model.summary()"
   ]
  },
  {
   "cell_type": "code",
   "execution_count": 91,
   "metadata": {},
   "outputs": [],
   "source": [
    "model.compile(optimizer=SGD(lr=0.001, momentum=0.9, nesterov=True),\n",
    "              loss='categorical_crossentropy',\n",
    "       metrics=['accuracy'])"
   ]
  },
  {
   "cell_type": "code",
   "execution_count": 96,
   "metadata": {
    "scrolled": true
   },
   "outputs": [
    {
     "name": "stdout",
     "output_type": "stream",
     "text": [
      "Epoch 1/100\n",
      "1568/1568 [==============================] - 0s 43us/step - loss: 0.2739 - acc: 0.9114\n",
      "Epoch 2/100\n",
      "1568/1568 [==============================] - 0s 39us/step - loss: 0.2505 - acc: 0.9145\n",
      "Epoch 3/100\n",
      "1568/1568 [==============================] - 0s 39us/step - loss: 0.2884 - acc: 0.9037\n",
      "Epoch 4/100\n",
      "1568/1568 [==============================] - 0s 41us/step - loss: 0.2580 - acc: 0.9126\n",
      "Epoch 5/100\n",
      "1568/1568 [==============================] - 0s 40us/step - loss: 0.2894 - acc: 0.9069\n",
      "Epoch 6/100\n",
      "1568/1568 [==============================] - 0s 32us/step - loss: 0.2757 - acc: 0.9075\n",
      "Epoch 7/100\n",
      "1568/1568 [==============================] - 0s 46us/step - loss: 0.2371 - acc: 0.9171\n",
      "Epoch 8/100\n",
      "1568/1568 [==============================] - 0s 37us/step - loss: 0.2590 - acc: 0.9247\n",
      "Epoch 9/100\n",
      "1568/1568 [==============================] - 0s 42us/step - loss: 0.2646 - acc: 0.9114\n",
      "Epoch 10/100\n",
      "1568/1568 [==============================] - 0s 34us/step - loss: 0.2733 - acc: 0.9152\n",
      "Epoch 11/100\n",
      "1568/1568 [==============================] - 0s 47us/step - loss: 0.2850 - acc: 0.9088\n",
      "Epoch 12/100\n",
      "1568/1568 [==============================] - 0s 39us/step - loss: 0.2878 - acc: 0.8992\n",
      "Epoch 13/100\n",
      "1568/1568 [==============================] - 0s 39us/step - loss: 0.2690 - acc: 0.9005\n",
      "Epoch 14/100\n",
      "1568/1568 [==============================] - 0s 40us/step - loss: 0.2838 - acc: 0.9037\n",
      "Epoch 15/100\n",
      "1568/1568 [==============================] - 0s 39us/step - loss: 0.2736 - acc: 0.9101\n",
      "Epoch 16/100\n",
      "1568/1568 [==============================] - 0s 41us/step - loss: 0.3014 - acc: 0.8967\n",
      "Epoch 17/100\n",
      "1568/1568 [==============================] - 0s 39us/step - loss: 0.2878 - acc: 0.8992\n",
      "Epoch 18/100\n",
      "1568/1568 [==============================] - 0s 39us/step - loss: 0.2447 - acc: 0.9165\n",
      "Epoch 19/100\n",
      "1568/1568 [==============================] - 0s 39us/step - loss: 0.2815 - acc: 0.9056\n",
      "Epoch 20/100\n",
      "1568/1568 [==============================] - 0s 40us/step - loss: 0.2478 - acc: 0.9190\n",
      "Epoch 21/100\n",
      "1568/1568 [==============================] - 0s 40us/step - loss: 0.2550 - acc: 0.9158\n",
      "Epoch 22/100\n",
      "1568/1568 [==============================] - 0s 33us/step - loss: 0.2699 - acc: 0.9094\n",
      "Epoch 23/100\n",
      "1568/1568 [==============================] - 0s 42us/step - loss: 0.2708 - acc: 0.9114\n",
      "Epoch 24/100\n",
      "1568/1568 [==============================] - 0s 46us/step - loss: 0.2657 - acc: 0.9056\n",
      "Epoch 25/100\n",
      "1568/1568 [==============================] - 0s 38us/step - loss: 0.2485 - acc: 0.9190\n",
      "Epoch 26/100\n",
      "1568/1568 [==============================] - 0s 32us/step - loss: 0.2689 - acc: 0.9094\n",
      "Epoch 27/100\n",
      "1568/1568 [==============================] - 0s 45us/step - loss: 0.2974 - acc: 0.9126\n",
      "Epoch 28/100\n",
      "1568/1568 [==============================] - 0s 39us/step - loss: 0.2636 - acc: 0.9158\n",
      "Epoch 29/100\n",
      "1568/1568 [==============================] - 0s 32us/step - loss: 0.2805 - acc: 0.9139\n",
      "Epoch 30/100\n",
      "1568/1568 [==============================] - 0s 47us/step - loss: 0.2821 - acc: 0.9139\n",
      "Epoch 31/100\n",
      "1568/1568 [==============================] - 0s 39us/step - loss: 0.2822 - acc: 0.9062\n",
      "Epoch 32/100\n",
      "1568/1568 [==============================] - 0s 30us/step - loss: 0.2732 - acc: 0.9069\n",
      "Epoch 33/100\n",
      "1568/1568 [==============================] - 0s 43us/step - loss: 0.3134 - acc: 0.8954\n",
      "Epoch 34/100\n",
      "1568/1568 [==============================] - 0s 45us/step - loss: 0.2892 - acc: 0.9056\n",
      "Epoch 35/100\n",
      "1568/1568 [==============================] - 0s 32us/step - loss: 0.2738 - acc: 0.9120\n",
      "Epoch 36/100\n",
      "1568/1568 [==============================] - 0s 49us/step - loss: 0.2690 - acc: 0.9139\n",
      "Epoch 37/100\n",
      "1568/1568 [==============================] - 0s 40us/step - loss: 0.2621 - acc: 0.9114\n",
      "Epoch 38/100\n",
      "1568/1568 [==============================] - 0s 39us/step - loss: 0.2647 - acc: 0.9094\n",
      "Epoch 39/100\n",
      "1568/1568 [==============================] - 0s 37us/step - loss: 0.2683 - acc: 0.9069\n",
      "Epoch 40/100\n",
      "1568/1568 [==============================] - 0s 49us/step - loss: 0.2969 - acc: 0.9075\n",
      "Epoch 41/100\n",
      "1568/1568 [==============================] - 0s 39us/step - loss: 0.2696 - acc: 0.9094\n",
      "Epoch 42/100\n",
      "1568/1568 [==============================] - 0s 39us/step - loss: 0.2728 - acc: 0.9069\n",
      "Epoch 43/100\n",
      "1568/1568 [==============================] - 0s 39us/step - loss: 0.2936 - acc: 0.9082\n",
      "Epoch 44/100\n",
      "1568/1568 [==============================] - 0s 40us/step - loss: 0.2772 - acc: 0.9139\n",
      "Epoch 45/100\n",
      "1568/1568 [==============================] - 0s 37us/step - loss: 0.2609 - acc: 0.9037\n",
      "Epoch 46/100\n",
      "1568/1568 [==============================] - 0s 33us/step - loss: 0.2945 - acc: 0.9069\n",
      "Epoch 47/100\n",
      "1568/1568 [==============================] - 0s 46us/step - loss: 0.2446 - acc: 0.9177\n",
      "Epoch 48/100\n",
      "1568/1568 [==============================] - 0s 37us/step - loss: 0.2933 - acc: 0.9031\n",
      "Epoch 49/100\n",
      "1568/1568 [==============================] - 0s 33us/step - loss: 0.2459 - acc: 0.9228\n",
      "Epoch 50/100\n",
      "1568/1568 [==============================] - 0s 42us/step - loss: 0.2673 - acc: 0.9171\n",
      "Epoch 51/100\n",
      "1568/1568 [==============================] - 0s 49us/step - loss: 0.2654 - acc: 0.9082\n",
      "Epoch 52/100\n",
      "1568/1568 [==============================] - 0s 39us/step - loss: 0.3001 - acc: 0.8999\n",
      "Epoch 53/100\n",
      "1568/1568 [==============================] - 0s 37us/step - loss: 0.2814 - acc: 0.9101\n",
      "Epoch 54/100\n",
      "1568/1568 [==============================] - 0s 33us/step - loss: 0.2619 - acc: 0.9145\n",
      "Epoch 55/100\n",
      "1568/1568 [==============================] - 0s 48us/step - loss: 0.2996 - acc: 0.9011\n",
      "Epoch 56/100\n",
      "1568/1568 [==============================] - 0s 39us/step - loss: 0.2758 - acc: 0.9069\n",
      "Epoch 57/100\n",
      "1568/1568 [==============================] - 0s 39us/step - loss: 0.2868 - acc: 0.9005\n",
      "Epoch 58/100\n",
      "1568/1568 [==============================] - 0s 40us/step - loss: 0.2705 - acc: 0.9120\n",
      "Epoch 59/100\n",
      "1568/1568 [==============================] - 0s 34us/step - loss: 0.2795 - acc: 0.9126\n",
      "Epoch 60/100\n",
      "1568/1568 [==============================] - 0s 44us/step - loss: 0.2857 - acc: 0.9082\n",
      "Epoch 61/100\n",
      "1568/1568 [==============================] - 0s 39us/step - loss: 0.2825 - acc: 0.9069\n",
      "Epoch 62/100\n",
      "1568/1568 [==============================] - 0s 34us/step - loss: 0.2741 - acc: 0.9043\n",
      "Epoch 63/100\n",
      "1568/1568 [==============================] - 0s 44us/step - loss: 0.2485 - acc: 0.9101\n",
      "Epoch 64/100\n",
      "1568/1568 [==============================] - 0s 38us/step - loss: 0.2797 - acc: 0.9018\n",
      "Epoch 65/100\n",
      "1568/1568 [==============================] - 0s 42us/step - loss: 0.2805 - acc: 0.9056\n",
      "Epoch 66/100\n",
      "1568/1568 [==============================] - 0s 34us/step - loss: 0.3056 - acc: 0.8960\n",
      "Epoch 67/100\n",
      "1568/1568 [==============================] - 0s 43us/step - loss: 0.2622 - acc: 0.9062\n",
      "Epoch 68/100\n",
      "1568/1568 [==============================] - 0s 40us/step - loss: 0.2628 - acc: 0.9126\n",
      "Epoch 69/100\n",
      "1568/1568 [==============================] - 0s 40us/step - loss: 0.2592 - acc: 0.9247\n",
      "Epoch 70/100\n",
      "1568/1568 [==============================] - 0s 40us/step - loss: 0.2697 - acc: 0.9107\n",
      "Epoch 71/100\n",
      "1568/1568 [==============================] - 0s 41us/step - loss: 0.2738 - acc: 0.9088\n",
      "Epoch 72/100\n",
      "1568/1568 [==============================] - 0s 37us/step - loss: 0.2663 - acc: 0.9069\n",
      "Epoch 73/100\n",
      "1568/1568 [==============================] - 0s 33us/step - loss: 0.2718 - acc: 0.9031\n",
      "Epoch 74/100\n",
      "1568/1568 [==============================] - 0s 42us/step - loss: 0.2781 - acc: 0.9114\n",
      "Epoch 75/100\n",
      "1568/1568 [==============================] - 0s 45us/step - loss: 0.2657 - acc: 0.9152\n",
      "Epoch 76/100\n",
      "1568/1568 [==============================] - 0s 39us/step - loss: 0.2585 - acc: 0.9190\n",
      "Epoch 77/100\n",
      "1568/1568 [==============================] - 0s 33us/step - loss: 0.2925 - acc: 0.8999\n",
      "Epoch 78/100\n",
      "1568/1568 [==============================] - 0s 46us/step - loss: 0.2696 - acc: 0.9082\n",
      "Epoch 79/100\n",
      "1568/1568 [==============================] - 0s 41us/step - loss: 0.2769 - acc: 0.9056\n",
      "Epoch 80/100\n",
      "1568/1568 [==============================] - 0s 39us/step - loss: 0.2872 - acc: 0.9043\n",
      "Epoch 81/100\n",
      "1568/1568 [==============================] - 0s 43us/step - loss: 0.2789 - acc: 0.9024\n",
      "Epoch 82/100\n",
      "1568/1568 [==============================] - 0s 39us/step - loss: 0.2503 - acc: 0.9177\n",
      "Epoch 83/100\n"
     ]
    },
    {
     "name": "stdout",
     "output_type": "stream",
     "text": [
      "1568/1568 [==============================] - 0s 40us/step - loss: 0.2919 - acc: 0.9011\n",
      "Epoch 84/100\n",
      "1568/1568 [==============================] - 0s 39us/step - loss: 0.2797 - acc: 0.9114\n",
      "Epoch 85/100\n",
      "1568/1568 [==============================] - 0s 39us/step - loss: 0.2544 - acc: 0.9145\n",
      "Epoch 86/100\n",
      "1568/1568 [==============================] - 0s 42us/step - loss: 0.3135 - acc: 0.9024\n",
      "Epoch 87/100\n",
      "1568/1568 [==============================] - 0s 39us/step - loss: 0.2872 - acc: 0.9031\n",
      "Epoch 88/100\n",
      "1568/1568 [==============================] - 0s 39us/step - loss: 0.2882 - acc: 0.9031\n",
      "Epoch 89/100\n",
      "1568/1568 [==============================] - 0s 38us/step - loss: 0.2697 - acc: 0.9062\n",
      "Epoch 90/100\n",
      "1568/1568 [==============================] - 0s 39us/step - loss: 0.2747 - acc: 0.9069\n",
      "Epoch 91/100\n",
      "1568/1568 [==============================] - 0s 40us/step - loss: 0.2847 - acc: 0.9107\n",
      "Epoch 92/100\n",
      "1568/1568 [==============================] - 0s 39us/step - loss: 0.2825 - acc: 0.9082\n",
      "Epoch 93/100\n",
      "1568/1568 [==============================] - 0s 40us/step - loss: 0.2446 - acc: 0.9247\n",
      "Epoch 94/100\n",
      "1568/1568 [==============================] - 0s 40us/step - loss: 0.2791 - acc: 0.9011\n",
      "Epoch 95/100\n",
      "1568/1568 [==============================] - 0s 39us/step - loss: 0.2612 - acc: 0.9184\n",
      "Epoch 96/100\n",
      "1568/1568 [==============================] - 0s 40us/step - loss: 0.2964 - acc: 0.8986\n",
      "Epoch 97/100\n",
      "1568/1568 [==============================] - 0s 39us/step - loss: 0.2720 - acc: 0.9114\n",
      "Epoch 98/100\n",
      "1568/1568 [==============================] - 0s 38us/step - loss: 0.2876 - acc: 0.9062\n",
      "Epoch 99/100\n",
      "1568/1568 [==============================] - 0s 40us/step - loss: 0.2766 - acc: 0.9120\n",
      "Epoch 100/100\n",
      "1568/1568 [==============================] - 0s 40us/step - loss: 0.2745 - acc: 0.9050\n"
     ]
    },
    {
     "data": {
      "text/plain": [
       "<keras.callbacks.History at 0x2310e848d68>"
      ]
     },
     "execution_count": 96,
     "metadata": {},
     "output_type": "execute_result"
    }
   ],
   "source": [
    "model.fit(X_train, Y_train, epochs=100, batch_size=128)"
   ]
  },
  {
   "cell_type": "code",
   "execution_count": 97,
   "metadata": {},
   "outputs": [
    {
     "name": "stdout",
     "output_type": "stream",
     "text": [
      "0.9929846938775511\n",
      "0.7890173410404624\n"
     ]
    }
   ],
   "source": [
    "Y_t=model.predict_classes(X_train)\n",
    "Y_tb=iny_set[:1568]\n",
    "bias=np.sum([Y_t[i]==Y_tb[i] for i in range(1568)])/1568\n",
    "Y_pre=model.predict_classes(X_test)\n",
    "Y_biao=iny_set[1568:]\n",
    "var=np.sum([Y_pre[i]==Y_biao[i] for i in range(672)])/692\n",
    "print(bias)\n",
    "print(var)"
   ]
  },
  {
   "cell_type": "code",
   "execution_count": 291,
   "metadata": {},
   "outputs": [],
   "source": [
    "model.save(\"My_paras.h5\")"
   ]
  },
  {
   "cell_type": "markdown",
   "metadata": {},
   "source": [
    "## 最终正确率在40%"
   ]
  }
 ],
 "metadata": {
  "kernelspec": {
   "display_name": "Python 3",
   "language": "python",
   "name": "python3"
  },
  "language_info": {
   "codemirror_mode": {
    "name": "ipython",
    "version": 3
   },
   "file_extension": ".py",
   "mimetype": "text/x-python",
   "name": "python",
   "nbconvert_exporter": "python",
   "pygments_lexer": "ipython3",
   "version": "3.5.3"
  },
  "latex_envs": {
   "LaTeX_envs_menu_present": true,
   "autoclose": false,
   "autocomplete": true,
   "bibliofile": "biblio.bib",
   "cite_by": "apalike",
   "current_citInitial": 1,
   "eqLabelWithNumbers": true,
   "eqNumInitial": 1,
   "hotkeys": {
    "equation": "Ctrl-E",
    "itemize": "Ctrl-I"
   },
   "labels_anchors": false,
   "latex_user_defs": false,
   "report_style_numbering": false,
   "user_envs_cfg": false
  },
  "nbTranslate": {
   "displayLangs": [
    "*"
   ],
   "hotkey": "alt-t",
   "langInMainMenu": true,
   "sourceLang": "en",
   "targetLang": "fr",
   "useGoogleTranslate": true
  },
  "varInspector": {
   "cols": {
    "lenName": 16,
    "lenType": 16,
    "lenVar": 40
   },
   "kernels_config": {
    "python": {
     "delete_cmd_postfix": "",
     "delete_cmd_prefix": "del ",
     "library": "var_list.py",
     "varRefreshCmd": "print(var_dic_list())"
    },
    "r": {
     "delete_cmd_postfix": ") ",
     "delete_cmd_prefix": "rm(",
     "library": "var_list.r",
     "varRefreshCmd": "cat(var_dic_list()) "
    }
   },
   "types_to_exclude": [
    "module",
    "function",
    "builtin_function_or_method",
    "instance",
    "_Feature"
   ],
   "window_display": false
  }
 },
 "nbformat": 4,
 "nbformat_minor": 2
}
